{
 "cells": [
  {
   "cell_type": "markdown",
   "id": "1c6e3bd4-4fa2-449c-8142-e701943cda62",
   "metadata": {},
   "source": [
    "![logo_ironhack_blue 7](https://user-images.githubusercontent.com/23629340/40541063-a07a0a8a-601a-11e8-91b5-2f13e4e6b441.png)\n",
    "\n",
    "# Lab | Web Scraping Single Page\n",
    "\n",
    "#### Business goal:\n",
    "\n",
    "- Check the `case_study_gnod.md` file.\n",
    "- Make sure you've understood the big picture of your project:\n",
    "\n",
    "  - the goal of the company (`Gnod`),\n",
    "  - their current product (`Gnoosic`),\n",
    "  - their strategy, and\n",
    "  - how your project fits into this context.\n",
    "\n",
    "  Re-read the business case and the e-mail from the CTO, take a look at the flowchart and create an initial Trello board with the tasks you think you'll have to accomplish.\n",
    "\n",
    "#### Instructions - Scraping popular songs\n",
    "\n",
    "Your product will take a song as an input from the user and will output another song (the recommendation). In most cases, the recommended song will have to be similar to the inputted song, but the CTO thinks that if the song is on the top charts at the moment, the user will enjoy more a recommendation of a song that's also popular at the moment.\n",
    "\n",
    "You have find data on the internet about currently popular songs. Billboard maintains a weekly Top 100 of \"hot\" songs here: [https://www.billboard.com/charts/hot-100](https://www.billboard.com/charts/hot-100).\n",
    "\n",
    "It's a good place to start! \n",
    "\n",
    "**The goal of this lab is to create a function: scrape_hot100()** to scrape the current top 100 songs present at [https://www.billboard.com/charts/hot-100](https://www.billboard.com/charts/hot-100) and their respective artists, put the information into a pandas dataframe, and save the dataframe in a csv file in the current folder. \n",
    "\n"
   ]
  },
  {
   "cell_type": "code",
   "execution_count": null,
   "id": "3162ea9b-9685-485d-ba48-1eab4ff2dffc",
   "metadata": {},
   "outputs": [],
   "source": [
    "import requests\n",
    "from bs4 import BeautifulSoup\n",
    "import pandas as pd\n",
    "import numpy as np\n",
    "import re\n",
    "import zipfile"
   ]
  },
  {
   "cell_type": "code",
   "execution_count": 134,
   "id": "e6a82d25-abe5-44cf-8d98-1a51ed37f8bf",
   "metadata": {},
   "outputs": [],
   "source": [
    "def scrape_hot100():\n",
    "    \n",
    "    url = \"https://www.billboard.com/charts/hot-100/\"\n",
    "    info = requests.get(url)\n",
    "    print(info.status_code)\n",
    "    \n",
    "    soup = BeautifulSoup(info.text, \"html.parser\")\n",
    "    \n",
    "    songs = []\n",
    "    artists = []\n",
    "    \n",
    "    artists.append(re.sub(\"\\n\", \"\", (re.sub(\"\\t\", \"\", soup.find_all(\"span\", {\"class\":\"c-label a-no-trucate a-font-primary-s lrv-u-font-size-14@mobile-max u-line-height-normal@mobile-max u-letter-spacing-0021 lrv-u-display-block a-truncate-ellipsis-2line u-max-width-330 u-max-width-230@tablet-only u-font-size-20@tablet\"})[0].get_text()))))\n",
    "\n",
    "    for x in soup.select(\"li ul li\"):\n",
    "        for y in x.select(\"h3\"):\n",
    "            y = re.sub(\"\\t\", \"\", y.get_text())\n",
    "            y = re.sub(\"\\n\", \"\", y)         \n",
    "            songs.append(y)\n",
    "    \n",
    "        for z in x.find_all(\"span\", {\"class\":\"c-label a-no-trucate a-font-primary-s lrv-u-font-size-14@mobile-max u-line-height-normal@mobile-max u-letter-spacing-0021 lrv-u-display-block a-truncate-ellipsis-2line u-max-width-330 u-max-width-230@tablet-only\"}):\n",
    "            z = re.sub(\"\\t\", \"\", z.get_text())\n",
    "            z = re.sub(\"\\n\", \"\", z)   \n",
    "            artists.append(z)\n",
    "            \n",
    "    df = pd.DataFrame({\"Songs\":songs, \"Artists\":artists})\n",
    "    \n",
    "    return df"
   ]
  },
  {
   "cell_type": "code",
   "execution_count": 135,
   "id": "12f4fcfd-0c2d-4074-894d-e332cfe9476c",
   "metadata": {},
   "outputs": [
    {
     "name": "stdout",
     "output_type": "stream",
     "text": [
      "200\n"
     ]
    },
    {
     "data": {
      "text/html": [
       "<div>\n",
       "<style scoped>\n",
       "    .dataframe tbody tr th:only-of-type {\n",
       "        vertical-align: middle;\n",
       "    }\n",
       "\n",
       "    .dataframe tbody tr th {\n",
       "        vertical-align: top;\n",
       "    }\n",
       "\n",
       "    .dataframe thead th {\n",
       "        text-align: right;\n",
       "    }\n",
       "</style>\n",
       "<table border=\"1\" class=\"dataframe\">\n",
       "  <thead>\n",
       "    <tr style=\"text-align: right;\">\n",
       "      <th></th>\n",
       "      <th>Songs</th>\n",
       "      <th>Artists</th>\n",
       "    </tr>\n",
       "  </thead>\n",
       "  <tbody>\n",
       "    <tr>\n",
       "      <th>0</th>\n",
       "      <td>Break My Soul</td>\n",
       "      <td>Beyonce</td>\n",
       "    </tr>\n",
       "    <tr>\n",
       "      <th>1</th>\n",
       "      <td>As It Was</td>\n",
       "      <td>Harry Styles</td>\n",
       "    </tr>\n",
       "    <tr>\n",
       "      <th>2</th>\n",
       "      <td>About Damn Time</td>\n",
       "      <td>Lizzo</td>\n",
       "    </tr>\n",
       "    <tr>\n",
       "      <th>3</th>\n",
       "      <td>Running Up That Hill (A Deal With God)</td>\n",
       "      <td>Kate Bush</td>\n",
       "    </tr>\n",
       "    <tr>\n",
       "      <th>4</th>\n",
       "      <td>Staying Alive</td>\n",
       "      <td>DJ Khaled Featuring Drake &amp; Lil Baby</td>\n",
       "    </tr>\n",
       "  </tbody>\n",
       "</table>\n",
       "</div>"
      ],
      "text/plain": [
       "                                    Songs  \\\n",
       "0                           Break My Soul   \n",
       "1                               As It Was   \n",
       "2                         About Damn Time   \n",
       "3  Running Up That Hill (A Deal With God)   \n",
       "4                           Staying Alive   \n",
       "\n",
       "                                Artists  \n",
       "0                               Beyonce  \n",
       "1                          Harry Styles  \n",
       "2                                 Lizzo  \n",
       "3                             Kate Bush  \n",
       "4  DJ Khaled Featuring Drake & Lil Baby  "
      ]
     },
     "execution_count": 135,
     "metadata": {},
     "output_type": "execute_result"
    }
   ],
   "source": [
    "hot100 = scrape_hot100()\n",
    "hot100.head()"
   ]
  },
  {
   "cell_type": "code",
   "execution_count": 136,
   "id": "60dea7ab-e9ec-4a71-9de7-ebe1fd8daf7e",
   "metadata": {},
   "outputs": [
    {
     "data": {
      "text/html": [
       "<div>\n",
       "<style scoped>\n",
       "    .dataframe tbody tr th:only-of-type {\n",
       "        vertical-align: middle;\n",
       "    }\n",
       "\n",
       "    .dataframe tbody tr th {\n",
       "        vertical-align: top;\n",
       "    }\n",
       "\n",
       "    .dataframe thead th {\n",
       "        text-align: right;\n",
       "    }\n",
       "</style>\n",
       "<table border=\"1\" class=\"dataframe\">\n",
       "  <thead>\n",
       "    <tr style=\"text-align: right;\">\n",
       "      <th></th>\n",
       "      <th>Songs</th>\n",
       "      <th>Artists</th>\n",
       "    </tr>\n",
       "  </thead>\n",
       "  <tbody>\n",
       "    <tr>\n",
       "      <th>95</th>\n",
       "      <td>Big 14</td>\n",
       "      <td>Trippie Redd, Moneybagg Yo &amp; Offset</td>\n",
       "    </tr>\n",
       "    <tr>\n",
       "      <th>96</th>\n",
       "      <td>Until I Found You</td>\n",
       "      <td>Stephen Sanchez</td>\n",
       "    </tr>\n",
       "    <tr>\n",
       "      <th>97</th>\n",
       "      <td>Despecha</td>\n",
       "      <td>Rosalia</td>\n",
       "    </tr>\n",
       "    <tr>\n",
       "      <th>98</th>\n",
       "      <td>Love Me More</td>\n",
       "      <td>Sam Smith</td>\n",
       "    </tr>\n",
       "    <tr>\n",
       "      <th>99</th>\n",
       "      <td>7 Days</td>\n",
       "      <td>YoungBoy Never Broke Again</td>\n",
       "    </tr>\n",
       "  </tbody>\n",
       "</table>\n",
       "</div>"
      ],
      "text/plain": [
       "                Songs                              Artists\n",
       "95             Big 14  Trippie Redd, Moneybagg Yo & Offset\n",
       "96  Until I Found You                      Stephen Sanchez\n",
       "97           Despecha                              Rosalia\n",
       "98       Love Me More                            Sam Smith\n",
       "99             7 Days           YoungBoy Never Broke Again"
      ]
     },
     "execution_count": 136,
     "metadata": {},
     "output_type": "execute_result"
    }
   ],
   "source": [
    "hot100.tail()"
   ]
  },
  {
   "cell_type": "code",
   "execution_count": null,
   "id": "db4e2a2b-59f6-4b6e-a01a-269a58ab03eb",
   "metadata": {},
   "outputs": [],
   "source": [
    "hot100.to_csv(\""
   ]
  }
 ],
 "metadata": {
  "kernelspec": {
   "display_name": "Python 3 (ipykernel)",
   "language": "python",
   "name": "python3"
  },
  "language_info": {
   "codemirror_mode": {
    "name": "ipython",
    "version": 3
   },
   "file_extension": ".py",
   "mimetype": "text/x-python",
   "name": "python",
   "nbconvert_exporter": "python",
   "pygments_lexer": "ipython3",
   "version": "3.9.12"
  }
 },
 "nbformat": 4,
 "nbformat_minor": 5
}
